{
 "cells": [
  {
   "cell_type": "code",
   "execution_count": null,
   "id": "06a6db19",
   "metadata": {},
   "outputs": [],
   "source": [
    "import pandas as pd\n",
    "import matplotlib.pyplot as plt"
   ]
  },
  {
   "cell_type": "code",
   "execution_count": null,
   "id": "76420119",
   "metadata": {},
   "outputs": [],
   "source": [
    "\n",
    "df_ratings=pd.read_csv('./rating.csv')\n",
    "\n",
    "reviews_groups = df_ratings.groupby(\"rating\")[\"rating\"].count()\n",
    "\n",
    "plt.figure(figsize=(8, 5))\n",
    "plt.bar(reviews_groups.index, reviews_groups.values, color='skyblue', edgecolor='black')\n",
    "plt.title(\"Ratings Distribution\")\n",
    "plt.xlabel(\"Rating\")\n",
    "plt.ylabel(\"Count\")\n",
    "plt.xticks(reviews_groups.index)  \n",
    "plt.show()"
   ]
  },
  {
   "cell_type": "code",
   "execution_count": null,
   "id": "216c8f51",
   "metadata": {},
   "outputs": [],
   "source": []
  }
 ],
 "metadata": {
  "language_info": {
   "name": "python"
  }
 },
 "nbformat": 4,
 "nbformat_minor": 5
}
